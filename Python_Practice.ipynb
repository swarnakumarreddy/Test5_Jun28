{
  "nbformat": 4,
  "nbformat_minor": 0,
  "metadata": {
    "colab": {
      "provenance": [],
      "authorship_tag": "ABX9TyOpwNlA31F7h55QHMeu3q2y",
      "include_colab_link": true
    },
    "kernelspec": {
      "name": "python3",
      "display_name": "Python 3"
    },
    "language_info": {
      "name": "python"
    }
  },
  "cells": [
    {
      "cell_type": "markdown",
      "metadata": {
        "id": "view-in-github",
        "colab_type": "text"
      },
      "source": [
        "<a href=\"https://colab.research.google.com/github/swarnakumarreddy/Test5_Jun28/blob/main/Python_Practice.ipynb\" target=\"_parent\"><img src=\"https://colab.research.google.com/assets/colab-badge.svg\" alt=\"Open In Colab\"/></a>"
      ]
    },
    {
      "cell_type": "code",
      "execution_count": 1,
      "metadata": {
        "colab": {
          "base_uri": "https://localhost:8080/"
        },
        "id": "JON7RFVXXzcS",
        "outputId": "4b005e6e-10ec-4976-ff0b-781d5f3c88fd"
      },
      "outputs": [
        {
          "output_type": "stream",
          "name": "stdout",
          "text": [
            "The Conditional was True\n",
            "a and b are equal\n",
            "No match\n"
          ]
        }
      ],
      "source": [
        "# If condition was true\n",
        "language = 'Python'\n",
        "if language == \"Python\":\n",
        "    print('The Conditional was True')\n",
        "\n",
        "# Elif Statement\n",
        "a = 100\n",
        "b = 100\n",
        "if b > a:\n",
        "    print('b is greater than a')\n",
        "elif a == b:\n",
        "    print('a and b are equal')\n",
        "else:\n",
        "    print('a is greater than b')\n",
        "\n",
        "# If else statement\n",
        "if language == \"Java\":\n",
        "    print('Language is python')\n",
        "else:\n",
        "    print('No match')\n"
      ]
    },
    {
      "cell_type": "code",
      "source": [
        "val1 = 2\n",
        "val2 = 3\n",
        "\n",
        "# using the addition operator\n",
        "count = val1 + val2\n",
        "print(count)\n",
        "\n",
        "num1 = 5\n",
        "num2 = 3\n",
        "\n",
        "# using the subtraction operator\n",
        "res = num1 - num2\n",
        "print(res)\n",
        "\n",
        "num_1 = 2\n",
        "num_2 = 3\n",
        "\n",
        "# using the multiplication operator\n",
        "a = num_1 * num_2\n",
        "print(a)\n",
        "\n",
        "a1 = 3\n",
        "a2 = 2\n",
        "\n",
        "# using the division operator\n",
        "c = a1 / a2\n",
        "print(c)\n",
        "\n",
        "b1 = 3\n",
        "b2 = 2\n",
        "\n",
        "# using the modulus operator\n",
        "d = b1 % b2\n",
        "print(d)\n",
        "\n",
        "c1 = 2\n",
        "c2 = 3\n",
        "\n",
        "# using the exponentiation operator\n",
        "e = c1 ** c2\n",
        "print(e)\n",
        "\n",
        "f1 = 3\n",
        "f2 = 2\n",
        "\n",
        "# using the floor division\n",
        "g = f1 // f2\n",
        "print(g)\n"
      ],
      "metadata": {
        "colab": {
          "base_uri": "https://localhost:8080/"
        },
        "id": "C6NEPdIfX5hF",
        "outputId": "a440c68c-1bf1-45cd-dac9-d05958e29e33"
      },
      "execution_count": 2,
      "outputs": [
        {
          "output_type": "stream",
          "name": "stdout",
          "text": [
            "5\n",
            "2\n",
            "6\n",
            "1.5\n",
            "1\n",
            "8\n",
            "1\n"
          ]
        }
      ]
    },
    {
      "cell_type": "code",
      "source": [
        "\n",
        "# To create an array of numeric values, we need to import the array module.\n",
        "import array as arr\n",
        "a = arr.array('d', [1.1, 3.5, 4.5])\n",
        "print(a)\n",
        "\n",
        "# To loop through all the elements of an array\n",
        "cars = [\"Ford\", \"Volvo\", \"BMW\"]\n",
        "for x in cars:\n",
        "    print(x)\n"
      ],
      "metadata": {
        "colab": {
          "base_uri": "https://localhost:8080/"
        },
        "id": "xohwR9tmaKUs",
        "outputId": "e884c419-b98c-466d-f864-befb3a840c44"
      },
      "execution_count": 3,
      "outputs": [
        {
          "output_type": "stream",
          "name": "stdout",
          "text": [
            "array('d', [1.1, 3.5, 4.5])\n",
            "Ford\n",
            "Volvo\n",
            "BMW\n"
          ]
        }
      ]
    },
    {
      "cell_type": "code",
      "source": [
        "# And Operator\n",
        "user = 'admin'\n",
        "login = True\n",
        "if user == 'admin' and login:\n",
        "    print('admin page')\n",
        "else:\n",
        "    print('page cannot be displayed')\n",
        "\n",
        "# Or Operator\n",
        "user = 'admin'\n",
        "login = True\n",
        "if user == 'admin' or login:\n",
        "    print('admin page')\n",
        "else:\n",
        "    print('page cannot be displayed')\n",
        "\n",
        "# Not Operator\n",
        "user = 'admin'\n",
        "login = False\n",
        "if not login:\n",
        "    print('page cannot displayed')\n",
        "else:\n",
        "    print('Welcome admin')\n"
      ],
      "metadata": {
        "colab": {
          "base_uri": "https://localhost:8080/"
        },
        "id": "bXjTcf4MaeEw",
        "outputId": "698707a2-e469-4463-a021-779da364005d"
      },
      "execution_count": 4,
      "outputs": [
        {
          "output_type": "stream",
          "name": "stdout",
          "text": [
            "admin page\n",
            "admin page\n",
            "page cannot displayed\n"
          ]
        }
      ]
    },
    {
      "cell_type": "code",
      "source": [
        "Variable_1 = '20.75'\n",
        "Variable_2 = '40.91'\n",
        "Variable_1 = float(Variable_1)\n",
        "Variable_2 = float(Variable_2)\n",
        "print(Variable_1 + Variable_2)\n"
      ],
      "metadata": {
        "colab": {
          "base_uri": "https://localhost:8080/"
        },
        "id": "DvtVnR9oal8w",
        "outputId": "7a3bb4b6-131e-4618-afb7-77283fa932c2"
      },
      "execution_count": 5,
      "outputs": [
        {
          "output_type": "stream",
          "name": "stdout",
          "text": [
            "61.66\n"
          ]
        }
      ]
    },
    {
      "cell_type": "code",
      "source": [
        "# Create a class named MyClass,\n",
        "\n",
        "class MyClass:\n",
        "    x = 5\n",
        "\n",
        "\n",
        "print(MyClass)\n",
        "\n",
        "# Creating an object\n",
        "\n",
        "\n",
        "class MyClass:\n",
        "    x = 5\n",
        "\n",
        "\n",
        "p1 = MyClass()\n",
        "print(p1.x)\n",
        "\n",
        "# Using the __init__() function to assign values for name and age\n",
        "\n",
        "\n",
        "class Person:\n",
        "    def __init__(self, name, age):\n",
        "        self.name = name\n",
        "        self.age = age\n",
        "\n",
        "\n",
        "p1 = Person(\"Mark\", 29)\n",
        "print(p1.name)\n",
        "print(p1.age)\n"
      ],
      "metadata": {
        "colab": {
          "base_uri": "https://localhost:8080/"
        },
        "id": "o_W2LUcgaqPw",
        "outputId": "0c2745f3-ee97-4c5d-97f0-323ab3a7586d"
      },
      "execution_count": 6,
      "outputs": [
        {
          "output_type": "stream",
          "name": "stdout",
          "text": [
            "<class '__main__.MyClass'>\n",
            "5\n",
            "Mark\n",
            "29\n"
          ]
        }
      ]
    },
    {
      "cell_type": "code",
      "source": [
        "a = 10\n",
        "b = 20\n",
        "\n",
        "# if two operands values are equal,then the condition becomes true.\n",
        "print(a == b)\n",
        "\n",
        "# if two operands values are not equal,then the condition becomes true.\n",
        "print(a != b)\n",
        "\n",
        "# if the value of left operand is greater than the value of right operand, then condition becomes true.\n",
        "print(a > b)\n",
        "\n",
        "# if the value of right operand is less than the value of right operand, then condition becomes true.\n",
        "print(a < b)\n",
        "\n",
        "# if the value of left operand is greater than or equal to the value of right operand, then the condition becomes true.\n",
        "print(a >= b)\n",
        "\n",
        "# if the value of right operand is greater than or equal to the value of left operand, then condition becomes true.\n",
        "print(a <= b)\n"
      ],
      "metadata": {
        "colab": {
          "base_uri": "https://localhost:8080/"
        },
        "id": "fReMyAuoaugB",
        "outputId": "46cc0956-8c06-4af6-8c40-61d62ccbbfa2"
      },
      "execution_count": 7,
      "outputs": [
        {
          "output_type": "stream",
          "name": "stdout",
          "text": [
            "False\n",
            "True\n",
            "False\n",
            "True\n",
            "False\n",
            "True\n"
          ]
        }
      ]
    },
    {
      "cell_type": "code",
      "source": [
        "# To get 'n' for each 'n in nums using List comprehension\n",
        "\n",
        "nums = [1, 2, 3, 4, 5, 6, 7, 8, 9]\n",
        "my_list = [n for n in nums]\n",
        "print(my_list)\n",
        "\n",
        "# 'n*n' for each 'n' in nums (List comprehension)\n",
        "\n",
        "nums = [1, 2, 3, 4, 5, 6, 7, 8, 9]\n",
        "my_list = [n*n for n in nums]\n",
        "print(my_list)\n",
        "\n",
        "# Using Dictionary comprehension\n",
        "brand = ['Audi', 'Benz', 'BMW']\n",
        "car = ['A4', 'CLS', 'X6']\n",
        "my_dict = {brand: car for brand, car in zip(car, brand)}\n",
        "print(my_dict)\n",
        "\n",
        "# Using Set comprehension\n",
        "nums = {1, 1, 2, 3, 4, 3, 5, 6, 7, 8, 7, 9}\n",
        "my_set = {n for n in nums}\n",
        "print(my_set)\n"
      ],
      "metadata": {
        "colab": {
          "base_uri": "https://localhost:8080/"
        },
        "id": "0h945s3la8-t",
        "outputId": "639938b6-fd2d-4a1f-9428-c829e2c413d9"
      },
      "execution_count": 8,
      "outputs": [
        {
          "output_type": "stream",
          "name": "stdout",
          "text": [
            "[1, 2, 3, 4, 5, 6, 7, 8, 9]\n",
            "[1, 4, 9, 16, 25, 36, 49, 64, 81]\n",
            "{'A4': 'Audi', 'CLS': 'Benz', 'X6': 'BMW'}\n",
            "{1, 2, 3, 4, 5, 6, 7, 8, 9}\n"
          ]
        }
      ]
    },
    {
      "cell_type": "code",
      "source": [],
      "metadata": {
        "id": "ZGhPB4GWbBCV"
      },
      "execution_count": null,
      "outputs": []
    },
    {
      "cell_type": "code",
      "source": [
        "# Program to double each item in a list using map()\n",
        "\n",
        "my_list = [1, 5, 4, 6, 8, 11, 3, 12]\n",
        "new_list = list(map(lambda x: x * 2, my_list))\n",
        "print(new_list)\n"
      ],
      "metadata": {
        "id": "sn2Mt5JibNTf",
        "outputId": "aff752f3-11aa-4d5e-8250-3107928649a5",
        "colab": {
          "base_uri": "https://localhost:8080/"
        }
      },
      "execution_count": 9,
      "outputs": [
        {
          "output_type": "stream",
          "name": "stdout",
          "text": [
            "[2, 10, 8, 12, 16, 22, 6, 24]\n"
          ]
        }
      ]
    }
  ]
}